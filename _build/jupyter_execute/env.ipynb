{
 "cells": [
  {
   "cell_type": "markdown",
   "id": "750a532f-d517-4f07-aabc-d6e9aeb78692",
   "metadata": {},
   "source": [
    "# 在Jupyter Notebook中配置ASTRA工具箱环境"
   ]
  },
  {
   "cell_type": "markdown",
   "id": "941cbef7-6b76-449c-acb9-54e317d7175e",
   "metadata": {},
   "source": [
    "## <span style=\"font-size: 30px; color: blue;\">1. 创建conda环境</span>\n",
    "首先，我们创建一个专门用于CT重建的conda环境："
   ]
  },
  {
   "cell_type": "code",
   "execution_count": 1,
   "id": "c7902290-fb21-494d-9400-c76798ed65f9",
   "metadata": {},
   "outputs": [],
   "source": [
    "#conda create -n astra_env python=3.9 -y"
   ]
  },
  {
   "cell_type": "markdown",
   "id": "8e22f640-919b-4fd9-8850-dc7e92964206",
   "metadata": {},
   "source": [
    "## <span style=\"font-size: 30px; color: blue;\">2. 激活环境并安装基础包</span>\n",
    "激活新创建的环境并安装相关库："
   ]
  },
  {
   "cell_type": "code",
   "execution_count": 2,
   "id": "64966b00-d3a5-47ea-be12-c156c12518a3",
   "metadata": {},
   "outputs": [],
   "source": [
    "#conda activate astra_env\n",
    "#conda install -c conda-forge jupyter ipykernel -y"
   ]
  },
  {
   "cell_type": "markdown",
   "id": "364bec0c-30b3-481f-b87f-a2fc90d5f277",
   "metadata": {},
   "source": [
    "## <span style=\"font-size: 30px; color: blue;\">3. 安装ASTRA工具箱</span>\n",
    "\n",
    "ASTRA工具箱可以通过conda-forge频道安装："
   ]
  },
  {
   "cell_type": "code",
   "execution_count": 3,
   "id": "a2ffdae5-1bc3-4a73-a789-dfc9fe2b7403",
   "metadata": {},
   "outputs": [],
   "source": [
    "#conda install astra-toolbox -c astra-toolbox -c nvidia"
   ]
  },
  {
   "cell_type": "markdown",
   "id": "1c332cf8-24b4-42a2-a3d3-d09bde1dacfd",
   "metadata": {},
   "source": [
    "## <span style=\"font-size: 30px; color: blue;\">4. 将环境添加到Jupyter内核</span>\n",
    "\n"
   ]
  },
  {
   "cell_type": "code",
   "execution_count": 4,
   "id": "812b4d49-18b3-42c0-8008-f6a3e7e195e2",
   "metadata": {},
   "outputs": [],
   "source": [
    "#python -m ipykernel install --user --name=astra_env"
   ]
  },
  {
   "cell_type": "markdown",
   "id": "0289529d-0186-4edf-8a7b-bcbaf45a8ab0",
   "metadata": {},
   "source": [
    "## <span style=\"font-size: 30px; color: blue;\">5. 验证安装</span>\n",
    "\n",
    "切换内核后,让我们验证ASTRA是否安装成功："
   ]
  },
  {
   "cell_type": "code",
   "execution_count": 5,
   "id": "2cbc7b93-7b40-4448-ba3f-924d31353e56",
   "metadata": {},
   "outputs": [
    {
     "name": "stdout",
     "output_type": "stream",
     "text": [
      "ASTRA版本: 2.3.0\n"
     ]
    }
   ],
   "source": [
    "import astra\n",
    "print(\"ASTRA版本:\", astra.__version__)"
   ]
  },
  {
   "cell_type": "markdown",
   "id": "6d50a869-6bd6-463c-beac-8c24070cf1a8",
   "metadata": {},
   "source": [
    "更多ASTRA工具箱的文档和示例可以参考[官方文档](https://www.astra-toolbox.com/)。"
   ]
  },
  {
   "cell_type": "markdown",
   "id": "54c7f1a3-e31f-4ecf-b603-5cfcc57e25c3",
   "metadata": {},
   "source": [
    "## <span style=\"font-size: 30px; color: blue;\">常用conda命令备忘：</span>"
   ]
  },
  {
   "cell_type": "code",
   "execution_count": 6,
   "id": "7c0e6abc-587e-4003-8690-58552b47354b",
   "metadata": {},
   "outputs": [],
   "source": [
    "# 列出所有环境\n",
    "#conda env list\n",
    "\n",
    "# 删除环境\n",
    "#conda env remove -n astra_env\n",
    "\n",
    "# 导出环境配置\n",
    "#conda env export -n astra_env > astra_env.yml\n",
    "\n",
    "# 从文件创建环境\n",
    "#conda env create -f astra_env.yml"
   ]
  }
 ],
 "metadata": {
  "kernelspec": {
   "display_name": "Python (astra)",
   "language": "python",
   "name": "astra"
  },
  "language_info": {
   "codemirror_mode": {
    "name": "ipython",
    "version": 3
   },
   "file_extension": ".py",
   "mimetype": "text/x-python",
   "name": "python",
   "nbconvert_exporter": "python",
   "pygments_lexer": "ipython3",
   "version": "3.9.21"
  }
 },
 "nbformat": 4,
 "nbformat_minor": 5
}